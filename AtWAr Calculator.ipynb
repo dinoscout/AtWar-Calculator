{
 "cells": [
  {
   "cell_type": "code",
   "execution_count": 118,
   "id": "f8c8a7f5",
   "metadata": {},
   "outputs": [
    {
     "name": "stdout",
     "output_type": "stream",
     "text": [
      "0\n"
     ]
    }
   ],
   "source": [
    "critMod = [{\"tank\":-0.02,\"mili\":0.02,\"inf\":0},{\"tank\":0.1,\"mili\":0.1,\"inf\":0.1}]\n",
    "cm = critMod\n",
    "\n",
    "\n",
    "tank = [{\"a\":8-1,\"d\":4,\"hp\":7,\"c\":0.05+cm[0][\"tank\"]},{\"a\":8,\"d\":4,\"hp\":7,\"c\":0.05+cm[1][\"tank\"]}]\n",
    "mili = [{\"a\":3,\"d\":4+1,\"hp\":7,\"c\":0+cm[0][\"mili\"]},{\"a\":3,\"d\":4,\"hp\":7,\"c\":0+cm[1][\"mili\"]}]\n",
    "inf = [{\"a\":4,\"d\":6+1,\"hp\":7,\"c\":0.05+cm[0][\"inf\"]},{\"a\":4,\"d\":6,\"hp\":7,\"c\":0.05+cm[1][\"inf\"]}]\n",
    "#order is mine on the left, enemy on the right\n",
    "myUnits = {\"dir\":\"attack\",\"tank\":0,\"mili\":0,\"inf\":7}\n",
    "enemyUnits = {\"dir\":\"defend\",\"tank\":0,\"mili\":0,\"inf\":7}\n",
    "\n",
    "Units = [myUnits,enemyUnits]\n",
    "UnitTypes = [\"tank\",\"mili\",\"inf\"]\n",
    "\n",
    "print(Units[0][\"tank\"])\n",
    "\n",
    "\n"
   ]
  },
  {
   "cell_type": "code",
   "execution_count": 119,
   "id": "df18c25f",
   "metadata": {},
   "outputs": [
    {
     "name": "stdout",
     "output_type": "stream",
     "text": [
      "[{'a': 7, 'd': 4, 'hp': 7, 'c': 0.030000000000000002, 'ed': 2.62, 'ea': 4.21}, {'a': 8, 'd': 4, 'hp': 7, 'c': 0.15000000000000002, 'ed': 3.1, 'ea': 5.7}]\n",
      "[{'a': 3, 'd': 5, 'hp': 7, 'c': 0.02, 'ed': 3.1, 'ea': 2.06}, {'a': 3, 'd': 4, 'hp': 7, 'c': 0.1, 'ed': 2.9, 'ea': 2.3}]\n",
      "[{'a': 4, 'd': 7, 'hp': 7, 'c': 0.05, 'ed': 4.35, 'ea': 2.7}, {'a': 4, 'd': 6, 'hp': 7, 'c': 0.15000000000000002, 'ed': 4.4, 'ea': 3.1}]\n"
     ]
    }
   ],
   "source": [
    "#compute expected damage per turn of each unit type\n",
    "direction = [\"ed\",\"ea\"]\n",
    "\n",
    "for p in range(2):\n",
    "    for dir in direction:\n",
    "        for unit in UnitTypes:\n",
    "        #tank[p][dir] = (tank[p][\"c\"]*tank[p][dir[1]]+(tank[p][dir[1]]+1)/2)\n",
    "            exec('%s[p][dir] = (%s[p][\"c\"]*%s[p][dir[1]]+(%s[p][dir[1]]+1)/2)' % (unit,unit,unit,unit))\n",
    "print(tank)\n",
    "print(mili)\n",
    "print(inf)\n",
    "\n",
    "BUP = {\"tank\":tank,\"mili\":mili,\"inf\":inf} #Bug Unit Pile\n"
   ]
  },
  {
   "cell_type": "code",
   "execution_count": 104,
   "id": "805e04e6",
   "metadata": {},
   "outputs": [
    {
     "name": "stdout",
     "output_type": "stream",
     "text": [
      "[2.0, 3.8]\n"
     ]
    }
   ],
   "source": [
    "#compute expected damage per turn of the entire stack\n",
    "dpt = [\"us\",\"them\"]\n",
    "hpTotal = [sum([BUP[x][0][\"hp\"]*int(Units[0][x]) for x in UnitTypes]), sum([BUP[x][1][\"hp\"]*int(Units[1][x]) for x in UnitTypes])]\n",
    "\n",
    "if Units[0][\"dir\"] == \"defend\":\n",
    "    dpt[0] = sum([BUP[x][0][\"hp\"]*int(Units[0][x])*BUP[x][0][\"ed\"] for x in UnitTypes]) / hpTotal[0]\n",
    "else:\n",
    "    dpt[0] = sum([BUP[x][0][\"hp\"]*int(Units[0][x])*BUP[x][0][\"ea\"] for x in UnitTypes]) / hpTotal[0]\n",
    "\n",
    "if Units[1][\"dir\"] == \"defend\":\n",
    "    dpt[1] = sum([BUP[x][1][\"hp\"]*int(Units[1][x])*BUP[x][1][\"ed\"] for x in UnitTypes]) / hpTotal[1]\n",
    "else:\n",
    "    dpt[1] = sum([BUP[x][1][\"hp\"]*int(Units[1][x])*BUP[x][1][\"ea\"] for x in UnitTypes]) / hpTotal[1]\n",
    "\n",
    "print(dpt)\n"
   ]
  },
  {
   "cell_type": "code",
   "execution_count": 105,
   "id": "23fae069",
   "metadata": {},
   "outputs": [
    {
     "name": "stdout",
     "output_type": "stream",
     "text": [
      "your opponent is expected to win with a total of 3.315789 units remaining\n"
     ]
    }
   ],
   "source": [
    "#solve for who will win the battle and what will remain (remaining is unreliable b/c this code assumes the dmpt is constantly the average, when it will be higher if not all troops are lost, meaning the low damage troops never fight to weigh down the average)\n",
    "if hpTotal[1]/dpt[0] < hpTotal[0]/dpt[0]: #player 1 runs out of hp first, as this reps turns survived\n",
    "    print(\"you are expected to win with a total of %f units remaining\" % ((hpTotal[0] - (hpTotal[1]/dpt[0])*dpt[1])/7))\n",
    "else:\n",
    "    print(\"your opponent is expected to win with a total of %f units remaining\" % ((hpTotal[1] - (hpTotal[0]/dpt[1])*dpt[0])/7))\n",
    "    \n",
    "#I know units remaining doesn't work if unit health is not 7, but you can do the math if needed"
   ]
  },
  {
   "cell_type": "code",
   "execution_count": 95,
   "id": "d2875df9",
   "metadata": {},
   "outputs": [
    {
     "data": {
      "text/plain": [
       "0.7725752508361207"
      ]
     },
     "execution_count": 95,
     "metadata": {},
     "output_type": "execute_result"
    }
   ],
   "source": [
    "#dealing with IF and other strengh-increasing "
   ]
  },
  {
   "cell_type": "code",
   "execution_count": 32,
   "id": "5d4c8017",
   "metadata": {},
   "outputs": [
    {
     "data": {
      "text/plain": [
       "{'A': 1, 'b': 5}"
      ]
     },
     "execution_count": 32,
     "metadata": {},
     "output_type": "execute_result"
    }
   ],
   "source": [
    "a = {\"A\":1}\n",
    "a[\"b\"]= 5\n",
    "a"
   ]
  },
  {
   "cell_type": "code",
   "execution_count": 35,
   "id": "023ffa79",
   "metadata": {},
   "outputs": [
    {
     "data": {
      "text/plain": [
       "'b'"
      ]
     },
     "execution_count": 35,
     "metadata": {},
     "output_type": "execute_result"
    }
   ],
   "source": [
    "\"abcd\"[1]"
   ]
  },
  {
   "cell_type": "code",
   "execution_count": 66,
   "id": "a54af878",
   "metadata": {},
   "outputs": [
    {
     "name": "stdout",
     "output_type": "stream",
     "text": [
      "[1, 4, 9]\n"
     ]
    },
    {
     "data": {
      "text/plain": [
       "14"
      ]
     },
     "execution_count": 66,
     "metadata": {},
     "output_type": "execute_result"
    }
   ],
   "source": [
    "a = [1,2,3]\n",
    "b = [x*x for x in a]\n",
    "print(b)\n",
    "sum(b)"
   ]
  },
  {
   "cell_type": "code",
   "execution_count": null,
   "id": "6e6f6b25",
   "metadata": {},
   "outputs": [],
   "source": []
  }
 ],
 "metadata": {
  "kernelspec": {
   "display_name": "Python 3 (ipykernel)",
   "language": "python",
   "name": "python3"
  },
  "language_info": {
   "codemirror_mode": {
    "name": "ipython",
    "version": 3
   },
   "file_extension": ".py",
   "mimetype": "text/x-python",
   "name": "python",
   "nbconvert_exporter": "python",
   "pygments_lexer": "ipython3",
   "version": "3.8.3"
  }
 },
 "nbformat": 4,
 "nbformat_minor": 5
}
